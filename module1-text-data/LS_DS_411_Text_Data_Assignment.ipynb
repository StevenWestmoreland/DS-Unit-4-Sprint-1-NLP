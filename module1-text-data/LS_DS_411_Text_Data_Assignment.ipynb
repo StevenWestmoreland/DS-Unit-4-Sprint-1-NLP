{
 "cells": [
  {
   "cell_type": "markdown",
   "metadata": {},
   "source": [
    "<img align=\"left\" src=\"https://lever-client-logos.s3.amazonaws.com/864372b1-534c-480e-acd5-9711f850815c-1524247202159.png\" width=200>\n",
    "<br></br>\n",
    "<br></br>\n",
    "\n",
    "# Natural Language Processing (NLP)\n",
    "## *Data Science Unit 4 Sprint 1 Assignment 1*\n",
    "\n",
    "Your goal in this assignment: find the attributes of the best & worst coffee shops in the dataset. The text is fairly raw: dates in the review, extra words in the `star_rating` column, etc. You'll probably want to clean that stuff up for a better analysis. \n",
    "\n",
    "Analyze the corpus of text using text visualizations of token frequency. Try cleaning the data as much as possible. Try the following techniques: \n",
    "- Lemmatization\n",
    "- Custom stopword removal\n",
    "\n",
    "Keep in mind the attributes of good tokens. Once you have a solid baseline, layer in the star rating in your visualization(s). Key part of this assignment - produce a write-up of the attributes of the best and worst coffee shops. Based on your analysis, what makes the best the best and the worst the worst. Use graphs and numbesr from your analysis to support your conclusions. There should be plenty of markdown cells! :coffee:"
   ]
  },
  {
   "cell_type": "code",
   "execution_count": 5,
   "metadata": {},
   "outputs": [
    {
     "data": {
      "image/jpeg": "[encoded data removed]",
      "text/html": [
       "\n",
       "        <iframe\n",
       "            width=\"400\"\n",
       "            height=\"300\"\n",
       "            src=\"https://www.youtube.com/embed/Jml7NVYm8cs\"\n",
       "            frameborder=\"0\"\n",
       "            allowfullscreen\n",
       "        ></iframe>\n",
       "        "
      ],
      "text/plain": [
       "<IPython.lib.display.YouTubeVideo at 0x1243479e8>"
      ]
     },
     "execution_count": 5,
     "metadata": {},
     "output_type": "execute_result"
    }
   ],
   "source": [
    "from IPython.display import YouTubeVideo\n",
    "\n",
    "YouTubeVideo('Jml7NVYm8cs')"
   ]
  },
  {
   "cell_type": "code",
   "execution_count": 2,
   "metadata": {},
   "outputs": [
    {
     "data": {
      "text/plain": [
       "'/Users/jonathansokoll/Documents/lambda/DS-Unit-4-Sprint-1-NLP/module1-text-data'"
      ]
     },
     "execution_count": 2,
     "metadata": {},
     "output_type": "execute_result"
    }
   ],
   "source": [
    "%pwd"
   ]
  },
  {
   "cell_type": "code",
   "execution_count": 16,
   "metadata": {},
   "outputs": [
    {
     "data": {
      "text/html": [
       "<div>\n",
       "<style scoped>\n",
       "    .dataframe tbody tr th:only-of-type {\n",
       "        vertical-align: middle;\n",
       "    }\n",
       "\n",
       "    .dataframe tbody tr th {\n",
       "        vertical-align: top;\n",
       "    }\n",
       "\n",
       "    .dataframe thead th {\n",
       "        text-align: right;\n",
       "    }\n",
       "</style>\n",
       "<table border=\"1\" class=\"dataframe\">\n",
       "  <thead>\n",
       "    <tr style=\"text-align: right;\">\n",
       "      <th></th>\n",
       "      <th>coffee_shop_name</th>\n",
       "      <th>full_review_text</th>\n",
       "      <th>star_rating</th>\n",
       "    </tr>\n",
       "  </thead>\n",
       "  <tbody>\n",
       "    <tr>\n",
       "      <th>0</th>\n",
       "      <td>The Factory - Cafe With a Soul</td>\n",
       "      <td>11/25/2016 1 check-in Love love loved the atm...</td>\n",
       "      <td>5.0 star rating</td>\n",
       "    </tr>\n",
       "    <tr>\n",
       "      <th>1</th>\n",
       "      <td>The Factory - Cafe With a Soul</td>\n",
       "      <td>12/2/2016 Listed in Date Night: Austin, Ambia...</td>\n",
       "      <td>4.0 star rating</td>\n",
       "    </tr>\n",
       "    <tr>\n",
       "      <th>2</th>\n",
       "      <td>The Factory - Cafe With a Soul</td>\n",
       "      <td>11/30/2016 1 check-in Listed in Brunch Spots ...</td>\n",
       "      <td>4.0 star rating</td>\n",
       "    </tr>\n",
       "    <tr>\n",
       "      <th>3</th>\n",
       "      <td>The Factory - Cafe With a Soul</td>\n",
       "      <td>11/25/2016 Very cool decor! Good drinks Nice ...</td>\n",
       "      <td>2.0 star rating</td>\n",
       "    </tr>\n",
       "    <tr>\n",
       "      <th>4</th>\n",
       "      <td>The Factory - Cafe With a Soul</td>\n",
       "      <td>12/3/2016 1 check-in They are located within ...</td>\n",
       "      <td>4.0 star rating</td>\n",
       "    </tr>\n",
       "  </tbody>\n",
       "</table>\n",
       "</div>"
      ],
      "text/plain": [
       "                  coffee_shop_name  \\\n",
       "0  The Factory - Cafe With a Soul    \n",
       "1  The Factory - Cafe With a Soul    \n",
       "2  The Factory - Cafe With a Soul    \n",
       "3  The Factory - Cafe With a Soul    \n",
       "4  The Factory - Cafe With a Soul    \n",
       "\n",
       "                                    full_review_text        star_rating  \n",
       "0   11/25/2016 1 check-in Love love loved the atm...   5.0 star rating   \n",
       "1   12/2/2016 Listed in Date Night: Austin, Ambia...   4.0 star rating   \n",
       "2   11/30/2016 1 check-in Listed in Brunch Spots ...   4.0 star rating   \n",
       "3   11/25/2016 Very cool decor! Good drinks Nice ...   2.0 star rating   \n",
       "4   12/3/2016 1 check-in They are located within ...   4.0 star rating   "
      ]
     },
     "execution_count": 16,
     "metadata": {},
     "output_type": "execute_result"
    }
   ],
   "source": [
    "import pandas as pd\n",
    "\n",
    "url = \"https://raw.githubusercontent.com/LambdaSchool/DS-Unit-4-Sprint-1-NLP/main/module1-text-data/data/yelp_coffeeshop_review_data.csv\"\n",
    "\n",
    "shops = pd.read_csv(url)\n",
    "shops.head()"
   ]
  },
  {
   "cell_type": "code",
   "execution_count": 17,
   "metadata": {},
   "outputs": [],
   "source": [
    "\"\"\"\n",
    "Import Statements\n",
    "\"\"\"\n",
    "\n",
    "# Base\n",
    "from collections import Counter\n",
    "import re\n",
    " \n",
    "import pandas as pd\n",
    "\n",
    "# Plotting\n",
    "import squarify\n",
    "import matplotlib.pyplot as plt\n",
    "import seaborn as sns\n",
    "\n",
    "# NLP Libraries\n",
    "import spacy\n",
    "from spacy.tokenizer import Tokenizer\n",
    "from nltk.stem import PorterStemmer\n",
    "\n",
    "nlp = spacy.load(\"en_core_web_lg\")"
   ]
  },
  {
   "cell_type": "code",
   "execution_count": 18,
   "metadata": {},
   "outputs": [],
   "source": [
    "def tokenize(text):\n",
    "    \"\"\"Parses a string into a list of semantic units (words)\n",
    "\n",
    "    Args:\n",
    "        text (str): The string that the function will tokenize.\n",
    "\n",
    "    Returns:\n",
    "        list: tokens parsed out by the mechanics of your choice\n",
    "    \"\"\"\n",
    "    \n",
    "    tokens = re.sub('[^a-zA-Z 0-9]', '', text)\n",
    "    tokens = tokens.lower().split()\n",
    "    \n",
    "    return tokens"
   ]
  },
  {
   "cell_type": "code",
   "execution_count": 27,
   "metadata": {},
   "outputs": [],
   "source": [
    "def count(docs):\n",
    "\n",
    "        word_counts = Counter()\n",
    "        appears_in = Counter()\n",
    "        \n",
    "        total_docs = len(docs)\n",
    "\n",
    "        for doc in docs:\n",
    "            word_counts.update(doc)\n",
    "            appears_in.update(set(doc))\n",
    "\n",
    "        temp = zip(word_counts.keys(), word_counts.values())\n",
    "        \n",
    "        wc = pd.DataFrame(temp, columns = ['word', 'count'])\n",
    "\n",
    "        wc['rank'] = wc['count'].rank(method='first', ascending=False)\n",
    "        total = wc['count'].sum()\n",
    "\n",
    "        wc['pct_total'] = wc['count'].apply(lambda x: x / total)\n",
    "        \n",
    "        wc = wc.sort_values(by='rank')\n",
    "        wc['cul_pct_total'] = wc['pct_total'].cumsum()\n",
    "\n",
    "        t2 = zip(appears_in.keys(), appears_in.values())\n",
    "        ac = pd.DataFrame(t2, columns=['word', 'appears_in'])\n",
    "        wc = ac.merge(wc, on='word')\n",
    "\n",
    "        wc['appears_in_pct'] = wc['appears_in'].apply(lambda x: x / total_docs)\n",
    "        \n",
    "        return wc.sort_values(by='rank')"
   ]
  },
  {
   "cell_type": "code",
   "execution_count": 45,
   "metadata": {},
   "outputs": [],
   "source": [
    "def get_lemmas(text):\n",
    "\n",
    "    lemmas = []\n",
    "    \n",
    "    doc = nlp(text)\n",
    "    \n",
    "    # Something goes here :P\n",
    "    for token in doc: \n",
    "        if ((token.text.lower() not in STOP_WORDS) and (token.is_punct == False)) and (token.pos_ != 'PRON'):\n",
    "            lemmas.append(token.lemma_)\n",
    "    \n",
    "    return lemmas"
   ]
  },
  {
   "cell_type": "code",
   "execution_count": 19,
   "metadata": {},
   "outputs": [],
   "source": [
    "shops['tokens'] = shops['full_review_text'].apply(tokenize)"
   ]
  },
  {
   "cell_type": "code",
   "execution_count": 20,
   "metadata": {},
   "outputs": [
    {
     "data": {
      "text/plain": [
       "0    [11252016, 1, checkin, love, love, loved, the,...\n",
       "1    [1222016, listed, in, date, night, austin, amb...\n",
       "2    [11302016, 1, checkin, listed, in, brunch, spo...\n",
       "3    [11252016, very, cool, decor, good, drinks, ni...\n",
       "4    [1232016, 1, checkin, they, are, located, with...\n",
       "Name: tokens, dtype: object"
      ]
     },
     "execution_count": 20,
     "metadata": {},
     "output_type": "execute_result"
    }
   ],
   "source": [
    "shops['tokens'].head()"
   ]
  },
  {
   "cell_type": "code",
   "execution_count": 21,
   "metadata": {},
   "outputs": [
    {
     "data": {
      "text/html": [
       "<div>\n",
       "<style scoped>\n",
       "    .dataframe tbody tr th:only-of-type {\n",
       "        vertical-align: middle;\n",
       "    }\n",
       "\n",
       "    .dataframe tbody tr th {\n",
       "        vertical-align: top;\n",
       "    }\n",
       "\n",
       "    .dataframe thead th {\n",
       "        text-align: right;\n",
       "    }\n",
       "</style>\n",
       "<table border=\"1\" class=\"dataframe\">\n",
       "  <thead>\n",
       "    <tr style=\"text-align: right;\">\n",
       "      <th></th>\n",
       "      <th>full_review_text</th>\n",
       "      <th>tokens</th>\n",
       "    </tr>\n",
       "  </thead>\n",
       "  <tbody>\n",
       "    <tr>\n",
       "      <th>0</th>\n",
       "      <td>11/25/2016 1 check-in Love love loved the atm...</td>\n",
       "      <td>[11252016, 1, checkin, love, love, loved, the,...</td>\n",
       "    </tr>\n",
       "    <tr>\n",
       "      <th>1</th>\n",
       "      <td>12/2/2016 Listed in Date Night: Austin, Ambia...</td>\n",
       "      <td>[1222016, listed, in, date, night, austin, amb...</td>\n",
       "    </tr>\n",
       "    <tr>\n",
       "      <th>2</th>\n",
       "      <td>11/30/2016 1 check-in Listed in Brunch Spots ...</td>\n",
       "      <td>[11302016, 1, checkin, listed, in, brunch, spo...</td>\n",
       "    </tr>\n",
       "    <tr>\n",
       "      <th>3</th>\n",
       "      <td>11/25/2016 Very cool decor! Good drinks Nice ...</td>\n",
       "      <td>[11252016, very, cool, decor, good, drinks, ni...</td>\n",
       "    </tr>\n",
       "    <tr>\n",
       "      <th>4</th>\n",
       "      <td>12/3/2016 1 check-in They are located within ...</td>\n",
       "      <td>[1232016, 1, checkin, they, are, located, with...</td>\n",
       "    </tr>\n",
       "    <tr>\n",
       "      <th>5</th>\n",
       "      <td>11/20/2016 1 check-in Very cute cafe! I think...</td>\n",
       "      <td>[11202016, 1, checkin, very, cute, cafe, i, th...</td>\n",
       "    </tr>\n",
       "    <tr>\n",
       "      <th>6</th>\n",
       "      <td>10/27/2016 2 check-ins Listed in \"Nuptial Cof...</td>\n",
       "      <td>[10272016, 2, checkins, listed, in, nuptial, c...</td>\n",
       "    </tr>\n",
       "    <tr>\n",
       "      <th>7</th>\n",
       "      <td>11/2/2016 2 check-ins Love this place!  5 sta...</td>\n",
       "      <td>[1122016, 2, checkins, love, this, place, 5, s...</td>\n",
       "    </tr>\n",
       "    <tr>\n",
       "      <th>8</th>\n",
       "      <td>10/25/2016 1 check-in Ok, let's try this appr...</td>\n",
       "      <td>[10252016, 1, checkin, ok, lets, try, this, ap...</td>\n",
       "    </tr>\n",
       "    <tr>\n",
       "      <th>9</th>\n",
       "      <td>11/10/2016 3 check-ins This place has been sh...</td>\n",
       "      <td>[11102016, 3, checkins, this, place, has, been...</td>\n",
       "    </tr>\n",
       "  </tbody>\n",
       "</table>\n",
       "</div>"
      ],
      "text/plain": [
       "                                    full_review_text  \\\n",
       "0   11/25/2016 1 check-in Love love loved the atm...   \n",
       "1   12/2/2016 Listed in Date Night: Austin, Ambia...   \n",
       "2   11/30/2016 1 check-in Listed in Brunch Spots ...   \n",
       "3   11/25/2016 Very cool decor! Good drinks Nice ...   \n",
       "4   12/3/2016 1 check-in They are located within ...   \n",
       "5   11/20/2016 1 check-in Very cute cafe! I think...   \n",
       "6   10/27/2016 2 check-ins Listed in \"Nuptial Cof...   \n",
       "7   11/2/2016 2 check-ins Love this place!  5 sta...   \n",
       "8   10/25/2016 1 check-in Ok, let's try this appr...   \n",
       "9   11/10/2016 3 check-ins This place has been sh...   \n",
       "\n",
       "                                              tokens  \n",
       "0  [11252016, 1, checkin, love, love, loved, the,...  \n",
       "1  [1222016, listed, in, date, night, austin, amb...  \n",
       "2  [11302016, 1, checkin, listed, in, brunch, spo...  \n",
       "3  [11252016, very, cool, decor, good, drinks, ni...  \n",
       "4  [1232016, 1, checkin, they, are, located, with...  \n",
       "5  [11202016, 1, checkin, very, cute, cafe, i, th...  \n",
       "6  [10272016, 2, checkins, listed, in, nuptial, c...  \n",
       "7  [1122016, 2, checkins, love, this, place, 5, s...  \n",
       "8  [10252016, 1, checkin, ok, lets, try, this, ap...  \n",
       "9  [11102016, 3, checkins, this, place, has, been...  "
      ]
     },
     "execution_count": 21,
     "metadata": {},
     "output_type": "execute_result"
    }
   ],
   "source": [
    "shops[['full_review_text', 'tokens']][:10]"
   ]
  },
  {
   "cell_type": "code",
   "execution_count": 24,
   "metadata": {},
   "outputs": [],
   "source": [
    "tokens = []\n",
    "\n",
    "\"\"\" Update those tokens w/o stopwords\"\"\"\n",
    "for doc in nlp.pipe(shops['full_review_text'], batch_size=500):\n",
    "    \n",
    "    doc_tokens = []\n",
    "    \n",
    "    for token in doc:\n",
    "        if (token.is_stop == False) & (token.is_punct == False):\n",
    "            doc_tokens.append(token.text.lower())\n",
    "\n",
    "    tokens.append(doc_tokens)\n",
    "\n",
    "shops['tokens'] = tokens"
   ]
  },
  {
   "cell_type": "code",
   "execution_count": 25,
   "metadata": {},
   "outputs": [
    {
     "data": {
      "text/plain": [
       "0    [ , 11/25/2016, 1, check, love, love, loved, a...\n",
       "1    [ , 12/2/2016, listed, date, night, austin, am...\n",
       "2    [ , 11/30/2016, 1, check, listed, brunch, spot...\n",
       "3    [ , 11/25/2016, cool, decor, good, drinks, nic...\n",
       "4    [ , 12/3/2016, 1, check, located, northcross, ...\n",
       "Name: tokens, dtype: object"
      ]
     },
     "execution_count": 25,
     "metadata": {},
     "output_type": "execute_result"
    }
   ],
   "source": [
    "shops.tokens.head()"
   ]
  },
  {
   "cell_type": "code",
   "execution_count": 28,
   "metadata": {},
   "outputs": [
    {
     "data": {
      "image/png": "[encoded data removed]",
      "text/plain": [
       "<Figure size 432x288 with 1 Axes>"
      ]
     },
     "metadata": {
      "needs_background": "light"
     },
     "output_type": "display_data"
    }
   ],
   "source": [
    "wc = count(shops['tokens'])\n",
    "\n",
    "wc_top20 = wc[wc['rank'] <= 20]\n",
    "\n",
    "squarify.plot(sizes=wc_top20['pct_total'], label=wc_top20['word'], alpha=.8 )\n",
    "plt.axis('off')\n",
    "plt.show()"
   ]
  },
  {
   "cell_type": "code",
   "execution_count": 85,
   "metadata": {},
   "outputs": [],
   "source": [
    "STOP_WORDS = nlp.Defaults.stop_words.union([' ','1', 'austin', 'shop', 'coffee', 'place', 'Yelp', '$'])"
   ]
  },
  {
   "cell_type": "code",
   "execution_count": 86,
   "metadata": {},
   "outputs": [],
   "source": [
    "tokens = []\n",
    "\n",
    "for doc in nlp.pipe(shops['full_review_text'], batch_size=500):\n",
    "    \n",
    "    doc_tokens = []\n",
    "    \n",
    "    for token in doc: \n",
    "        if (token.is_punct == False) & (token.text.lower() not in STOP_WORDS):\n",
    "            doc_tokens.append(token.text.lower())\n",
    "   \n",
    "    tokens.append(doc_tokens)\n",
    "    \n",
    "shops['tokens'] = tokens"
   ]
  },
  {
   "cell_type": "code",
   "execution_count": 87,
   "metadata": {},
   "outputs": [
    {
     "data": {
      "image/png": "[encoded data removed]",
      "text/plain": [
       "<Figure size 432x288 with 1 Axes>"
      ]
     },
     "metadata": {
      "needs_background": "light"
     },
     "output_type": "display_data"
    }
   ],
   "source": [
    "wc = count(shops['tokens'])\n",
    "\n",
    "wc_top20 = wc[wc['rank'] <= 20]\n",
    "\n",
    "squarify.plot(sizes=wc_top20['pct_total'], label=wc_top20['word'], alpha=.8 )\n",
    "plt.axis('off')\n",
    "plt.show()"
   ]
  },
  {
   "cell_type": "code",
   "execution_count": 88,
   "metadata": {},
   "outputs": [],
   "source": [
    "shops['lemmas'] = shops['full_review_text'].apply(get_lemmas)"
   ]
  },
  {
   "cell_type": "code",
   "execution_count": 89,
   "metadata": {},
   "outputs": [
    {
     "data": {
      "image/png": "[encoded data removed]",
      "text/plain": [
       "<Figure size 432x288 with 1 Axes>"
      ]
     },
     "metadata": {
      "needs_background": "light"
     },
     "output_type": "display_data"
    }
   ],
   "source": [
    "wc = count(shops['lemmas'])\n",
    "wc_top20 = wc[wc['rank'] <= 20]\n",
    "\n",
    "squarify.plot(sizes=wc_top20['pct_total'], label=wc_top20['word'], alpha=.8 )\n",
    "plt.axis('off')\n",
    "plt.show()"
   ]
  },
  {
   "cell_type": "markdown",
   "metadata": {},
   "source": [
    "Up to this point, I was trying to get the tokens into an acceptable form. From here on, I will split the dataframe into two: good_shops (where star_rating >= 4) and bad_shops (where star_rating is between 1 and 3), then I will apply the final lemmatization to both the new dataframes."
   ]
  },
  {
   "cell_type": "markdown",
   "metadata": {},
   "source": [
    "## How do we want to analyze these coffee shop tokens? \n",
    "\n",
    "- Overall Word / Token Count\n",
    "- View Counts by Rating \n",
    "- *Hint:* a 'bad' coffee shops has a rating betweeen 1 & 3 based on the distribution of ratings. A 'good' coffee shop is a 4 or 5. "
   ]
  },
  {
   "cell_type": "code",
   "execution_count": 90,
   "metadata": {},
   "outputs": [
    {
     "data": {
      "text/html": [
       "<div>\n",
       "<style scoped>\n",
       "    .dataframe tbody tr th:only-of-type {\n",
       "        vertical-align: middle;\n",
       "    }\n",
       "\n",
       "    .dataframe tbody tr th {\n",
       "        vertical-align: top;\n",
       "    }\n",
       "\n",
       "    .dataframe thead th {\n",
       "        text-align: right;\n",
       "    }\n",
       "</style>\n",
       "<table border=\"1\" class=\"dataframe\">\n",
       "  <thead>\n",
       "    <tr style=\"text-align: right;\">\n",
       "      <th></th>\n",
       "      <th>coffee_shop_name</th>\n",
       "      <th>full_review_text</th>\n",
       "      <th>star_rating</th>\n",
       "      <th>tokens</th>\n",
       "      <th>lemmas</th>\n",
       "    </tr>\n",
       "  </thead>\n",
       "  <tbody>\n",
       "    <tr>\n",
       "      <th>1406</th>\n",
       "      <td>Caffe Medici</td>\n",
       "      <td>4/25/2014 1 check-in Cool atmosphere in a cut...</td>\n",
       "      <td>4.0 star rating</td>\n",
       "      <td>[4/25/2014, check, cool, atmosphere, cute, ret...</td>\n",
       "      <td>[4/25/2014, check, cool, atmosphere, cute, ret...</td>\n",
       "    </tr>\n",
       "    <tr>\n",
       "      <th>6948</th>\n",
       "      <td>La Patisserie</td>\n",
       "      <td>3/17/2014 4 check-ins Listed in Yelp 100 Chal...</td>\n",
       "      <td>5.0 star rating</td>\n",
       "      <td>[3/17/2014, 4, check, ins, listed, yelp, 100, ...</td>\n",
       "      <td>[3/17/2014, 4, check, in, list, Yelp, 100, cha...</td>\n",
       "    </tr>\n",
       "    <tr>\n",
       "      <th>522</th>\n",
       "      <td>Monkey Nest Coffee</td>\n",
       "      <td>12/7/2015 1 check-in Great place to study, 24...</td>\n",
       "      <td>5.0 star rating</td>\n",
       "      <td>[12/7/2015, check, great, study, 24/7, great, ...</td>\n",
       "      <td>[12/7/2015, check, great, study, great, good, ...</td>\n",
       "    </tr>\n",
       "    <tr>\n",
       "      <th>2535</th>\n",
       "      <td>Flightpath Coffeehouse</td>\n",
       "      <td>11/7/2016 1 check-in Good place to study, how...</td>\n",
       "      <td>4.0 star rating</td>\n",
       "      <td>[11/7/2016, check, good, study, weekends, toma...</td>\n",
       "      <td>[11/7/2016, check, good, study, weekend, tomat...</td>\n",
       "    </tr>\n",
       "    <tr>\n",
       "      <th>2507</th>\n",
       "      <td>Caffé Medici</td>\n",
       "      <td>3/23/2015 My quest for a decent cup of coffee...</td>\n",
       "      <td>5.0 star rating</td>\n",
       "      <td>[3/23/2015, quest, decent, cup, downtown, star...</td>\n",
       "      <td>[3/23/2015, quest, decent, cup, downtown, star...</td>\n",
       "    </tr>\n",
       "    <tr>\n",
       "      <th>2129</th>\n",
       "      <td>Houndstooth Coffee</td>\n",
       "      <td>3/16/2016 Great Americano and fast service.</td>\n",
       "      <td>4.0 star rating</td>\n",
       "      <td>[3/16/2016, great, americano, fast, service]</td>\n",
       "      <td>[3/16/2016, Great, Americano, fast, service]</td>\n",
       "    </tr>\n",
       "    <tr>\n",
       "      <th>3819</th>\n",
       "      <td>Cream Whiskers</td>\n",
       "      <td>4/1/2016 Delicious and light matcha cream puf...</td>\n",
       "      <td>5.0 star rating</td>\n",
       "      <td>[4/1/2016, delicious, light, matcha, cream, pu...</td>\n",
       "      <td>[4/1/2016, Delicious, light, matcha, cream, pu...</td>\n",
       "    </tr>\n",
       "    <tr>\n",
       "      <th>679</th>\n",
       "      <td>Corona Coffee</td>\n",
       "      <td>11/1/2014 The vibe is so chill here, I'm thin...</td>\n",
       "      <td>5.0 star rating</td>\n",
       "      <td>[11/1/2014, vibe, chill, thinking, bring, pill...</td>\n",
       "      <td>[11/1/2014, vibe, chill, think, bring, pillow,...</td>\n",
       "    </tr>\n",
       "    <tr>\n",
       "      <th>2963</th>\n",
       "      <td>Thunderbird Coffee</td>\n",
       "      <td>8/13/2015 Thunderbird Coffee is an Austin sta...</td>\n",
       "      <td>4.0 star rating</td>\n",
       "      <td>[8/13/2015, thunderbird, staple, worth, campin...</td>\n",
       "      <td>[8/13/2015, Thunderbird, staple, worth, camp, ...</td>\n",
       "    </tr>\n",
       "    <tr>\n",
       "      <th>5286</th>\n",
       "      <td>Genuine Joe</td>\n",
       "      <td>8/19/2013 72 check-ins Oh man!  Guess where I...</td>\n",
       "      <td>4.0 star rating</td>\n",
       "      <td>[8/19/2013, 72, check, ins, oh, man, guess, wa...</td>\n",
       "      <td>[8/19/2013, 72, check, in, oh, man, guess, way...</td>\n",
       "    </tr>\n",
       "  </tbody>\n",
       "</table>\n",
       "</div>"
      ],
      "text/plain": [
       "             coffee_shop_name  \\\n",
       "1406            Caffe Medici    \n",
       "6948           La Patisserie    \n",
       "522       Monkey Nest Coffee    \n",
       "2535  Flightpath Coffeehouse    \n",
       "2507            Caffé Medici    \n",
       "2129      Houndstooth Coffee    \n",
       "3819          Cream Whiskers    \n",
       "679            Corona Coffee    \n",
       "2963      Thunderbird Coffee    \n",
       "5286             Genuine Joe    \n",
       "\n",
       "                                       full_review_text        star_rating  \\\n",
       "1406   4/25/2014 1 check-in Cool atmosphere in a cut...   4.0 star rating    \n",
       "6948   3/17/2014 4 check-ins Listed in Yelp 100 Chal...   5.0 star rating    \n",
       "522    12/7/2015 1 check-in Great place to study, 24...   5.0 star rating    \n",
       "2535   11/7/2016 1 check-in Good place to study, how...   4.0 star rating    \n",
       "2507   3/23/2015 My quest for a decent cup of coffee...   5.0 star rating    \n",
       "2129       3/16/2016 Great Americano and fast service.    4.0 star rating    \n",
       "3819   4/1/2016 Delicious and light matcha cream puf...   5.0 star rating    \n",
       "679    11/1/2014 The vibe is so chill here, I'm thin...   5.0 star rating    \n",
       "2963   8/13/2015 Thunderbird Coffee is an Austin sta...   4.0 star rating    \n",
       "5286   8/19/2013 72 check-ins Oh man!  Guess where I...   4.0 star rating    \n",
       "\n",
       "                                                 tokens  \\\n",
       "1406  [4/25/2014, check, cool, atmosphere, cute, ret...   \n",
       "6948  [3/17/2014, 4, check, ins, listed, yelp, 100, ...   \n",
       "522   [12/7/2015, check, great, study, 24/7, great, ...   \n",
       "2535  [11/7/2016, check, good, study, weekends, toma...   \n",
       "2507  [3/23/2015, quest, decent, cup, downtown, star...   \n",
       "2129       [3/16/2016, great, americano, fast, service]   \n",
       "3819  [4/1/2016, delicious, light, matcha, cream, pu...   \n",
       "679   [11/1/2014, vibe, chill, thinking, bring, pill...   \n",
       "2963  [8/13/2015, thunderbird, staple, worth, campin...   \n",
       "5286  [8/19/2013, 72, check, ins, oh, man, guess, wa...   \n",
       "\n",
       "                                                 lemmas  \n",
       "1406  [4/25/2014, check, cool, atmosphere, cute, ret...  \n",
       "6948  [3/17/2014, 4, check, in, list, Yelp, 100, cha...  \n",
       "522   [12/7/2015, check, great, study, great, good, ...  \n",
       "2535  [11/7/2016, check, good, study, weekend, tomat...  \n",
       "2507  [3/23/2015, quest, decent, cup, downtown, star...  \n",
       "2129       [3/16/2016, Great, Americano, fast, service]  \n",
       "3819  [4/1/2016, Delicious, light, matcha, cream, pu...  \n",
       "679   [11/1/2014, vibe, chill, think, bring, pillow,...  \n",
       "2963  [8/13/2015, Thunderbird, staple, worth, camp, ...  \n",
       "5286  [8/19/2013, 72, check, in, oh, man, guess, way...  "
      ]
     },
     "execution_count": 90,
     "metadata": {},
     "output_type": "execute_result"
    }
   ],
   "source": [
    "five_star_shops = shops[shops['star_rating'] == ' 5.0 star rating '].copy()\n",
    "four_star_shops = shops[shops['star_rating'] == ' 4.0 star rating '].copy()\n",
    "good_shops = five_star_shops.append(four_star_shops)\n",
    "good_shops.sample(10)"
   ]
  },
  {
   "cell_type": "code",
   "execution_count": 91,
   "metadata": {},
   "outputs": [
    {
     "data": {
      "image/png": "[encoded data removed]",
      "text/plain": [
       "<Figure size 432x288 with 1 Axes>"
      ]
     },
     "metadata": {
      "needs_background": "light"
     },
     "output_type": "display_data"
    }
   ],
   "source": [
    "wc = count(good_shops['lemmas'])\n",
    "wc_top20 = wc[wc['rank'] <= 20]\n",
    "\n",
    "squarify.plot(sizes=wc_top20['pct_total'], label=wc_top20['word'], alpha=.8 )\n",
    "plt.axis('off')\n",
    "plt.show()"
   ]
  },
  {
   "cell_type": "markdown",
   "metadata": {},
   "source": [
    "So we see for Good rated coffee shops, the above visualization shows the top 20 words/tokens used in reviews."
   ]
  },
  {
   "cell_type": "code",
   "execution_count": 92,
   "metadata": {},
   "outputs": [
    {
     "data": {
      "text/html": [
       "<div>\n",
       "<style scoped>\n",
       "    .dataframe tbody tr th:only-of-type {\n",
       "        vertical-align: middle;\n",
       "    }\n",
       "\n",
       "    .dataframe tbody tr th {\n",
       "        vertical-align: top;\n",
       "    }\n",
       "\n",
       "    .dataframe thead th {\n",
       "        text-align: right;\n",
       "    }\n",
       "</style>\n",
       "<table border=\"1\" class=\"dataframe\">\n",
       "  <thead>\n",
       "    <tr style=\"text-align: right;\">\n",
       "      <th></th>\n",
       "      <th>coffee_shop_name</th>\n",
       "      <th>full_review_text</th>\n",
       "      <th>star_rating</th>\n",
       "      <th>tokens</th>\n",
       "      <th>lemmas</th>\n",
       "    </tr>\n",
       "  </thead>\n",
       "  <tbody>\n",
       "    <tr>\n",
       "      <th>6757</th>\n",
       "      <td>Alta’s Cafe</td>\n",
       "      <td>3/27/2015 More of a 3.5... Go here for the sn...</td>\n",
       "      <td>3.0 star rating</td>\n",
       "      <td>[3/27/2015, 3.5, snacks, view, bring, lots, pa...</td>\n",
       "      <td>[3/27/2015, 3.5, snack, view, bring, lot, pati...</td>\n",
       "    </tr>\n",
       "    <tr>\n",
       "      <th>3168</th>\n",
       "      <td>Cherrywood Coffeehouse</td>\n",
       "      <td>10/10/2016 1 check-in Came here on a whim and...</td>\n",
       "      <td>3.0 star rating</td>\n",
       "      <td>[10/10/2016, check, came, whim, wanted, like, ...</td>\n",
       "      <td>[10/10/2016, check, come, whim, want, like, re...</td>\n",
       "    </tr>\n",
       "    <tr>\n",
       "      <th>311</th>\n",
       "      <td>Mozart’s Coffee Roasters</td>\n",
       "      <td>12/30/2015 Have not been there in 20 years.  ...</td>\n",
       "      <td>2.0 star rating</td>\n",
       "      <td>[12/30/2015, 20, years, baristas, grumpy, atti...</td>\n",
       "      <td>[12/30/2015, 20, year, barista, grumpy, attitu...</td>\n",
       "    </tr>\n",
       "    <tr>\n",
       "      <th>2691</th>\n",
       "      <td>Bennu Coffee</td>\n",
       "      <td>12/1/2016 We had an early drive and so came t...</td>\n",
       "      <td>2.0 star rating</td>\n",
       "      <td>[12/1/2016, early, drive, came, places, open, ...</td>\n",
       "      <td>[12/1/2016, early, drive, come, place, open, 6...</td>\n",
       "    </tr>\n",
       "    <tr>\n",
       "      <th>1167</th>\n",
       "      <td>Houndstooth Coffee</td>\n",
       "      <td>10/14/2016 1 check-in I would love to give Ho...</td>\n",
       "      <td>3.0 star rating</td>\n",
       "      <td>[10/14/2016, check, love, houndstooth, 4, star...</td>\n",
       "      <td>[10/14/2016, check, love, Houndstooth, 4, star...</td>\n",
       "    </tr>\n",
       "    <tr>\n",
       "      <th>5568</th>\n",
       "      <td>Dominican Joe</td>\n",
       "      <td>7/31/2016 The coffee is fairly good, and they...</td>\n",
       "      <td>3.0 star rating</td>\n",
       "      <td>[7/31/2016, fairly, good, taco, deli, breakfas...</td>\n",
       "      <td>[7/31/2016, fairly, good, Taco, Deli, breakfas...</td>\n",
       "    </tr>\n",
       "    <tr>\n",
       "      <th>7259</th>\n",
       "      <td>Emerald Tavern Games &amp; Cafe</td>\n",
       "      <td>3/13/2016 An out of town friend recommended t...</td>\n",
       "      <td>3.0 star rating</td>\n",
       "      <td>[3/13/2016, town, friend, recommended, fiancee...</td>\n",
       "      <td>[3/13/2016, town, friend, recommend, fiancee, ...</td>\n",
       "    </tr>\n",
       "    <tr>\n",
       "      <th>133</th>\n",
       "      <td>Vintage Heart Coffee</td>\n",
       "      <td>8/21/2016 1 check-in Only had a cup of cold b...</td>\n",
       "      <td>3.0 star rating</td>\n",
       "      <td>[8/21/2016, check, cup, cold, brew, special, s...</td>\n",
       "      <td>[8/21/2016, check, cup, cold, brew, special, s...</td>\n",
       "    </tr>\n",
       "    <tr>\n",
       "      <th>6328</th>\n",
       "      <td>Pacha</td>\n",
       "      <td>6/13/2015 1 check-in Breakfast is wildly over...</td>\n",
       "      <td>2.0 star rating</td>\n",
       "      <td>[6/13/2015, check, breakfast, wildly, overpric...</td>\n",
       "      <td>[6/13/2015, check, Breakfast, wildly, overpric...</td>\n",
       "    </tr>\n",
       "    <tr>\n",
       "      <th>4866</th>\n",
       "      <td>The Buzz Mill</td>\n",
       "      <td>11/15/2016 Filthy restrooms-not gender specif...</td>\n",
       "      <td>1.0 star rating</td>\n",
       "      <td>[11/15/2016, filthy, restrooms, gender, specif...</td>\n",
       "      <td>[11/15/2016, filthy, restroom, gender, specifi...</td>\n",
       "    </tr>\n",
       "  </tbody>\n",
       "</table>\n",
       "</div>"
      ],
      "text/plain": [
       "                  coffee_shop_name  \\\n",
       "6757                  Alta’s Cafe    \n",
       "3168       Cherrywood Coffeehouse    \n",
       "311      Mozart’s Coffee Roasters    \n",
       "2691                 Bennu Coffee    \n",
       "1167           Houndstooth Coffee    \n",
       "5568                Dominican Joe    \n",
       "7259  Emerald Tavern Games & Cafe    \n",
       "133          Vintage Heart Coffee    \n",
       "6328                        Pacha    \n",
       "4866                The Buzz Mill    \n",
       "\n",
       "                                       full_review_text        star_rating  \\\n",
       "6757   3/27/2015 More of a 3.5... Go here for the sn...   3.0 star rating    \n",
       "3168   10/10/2016 1 check-in Came here on a whim and...   3.0 star rating    \n",
       "311    12/30/2015 Have not been there in 20 years.  ...   2.0 star rating    \n",
       "2691   12/1/2016 We had an early drive and so came t...   2.0 star rating    \n",
       "1167   10/14/2016 1 check-in I would love to give Ho...   3.0 star rating    \n",
       "5568   7/31/2016 The coffee is fairly good, and they...   3.0 star rating    \n",
       "7259   3/13/2016 An out of town friend recommended t...   3.0 star rating    \n",
       "133    8/21/2016 1 check-in Only had a cup of cold b...   3.0 star rating    \n",
       "6328   6/13/2015 1 check-in Breakfast is wildly over...   2.0 star rating    \n",
       "4866   11/15/2016 Filthy restrooms-not gender specif...   1.0 star rating    \n",
       "\n",
       "                                                 tokens  \\\n",
       "6757  [3/27/2015, 3.5, snacks, view, bring, lots, pa...   \n",
       "3168  [10/10/2016, check, came, whim, wanted, like, ...   \n",
       "311   [12/30/2015, 20, years, baristas, grumpy, atti...   \n",
       "2691  [12/1/2016, early, drive, came, places, open, ...   \n",
       "1167  [10/14/2016, check, love, houndstooth, 4, star...   \n",
       "5568  [7/31/2016, fairly, good, taco, deli, breakfas...   \n",
       "7259  [3/13/2016, town, friend, recommended, fiancee...   \n",
       "133   [8/21/2016, check, cup, cold, brew, special, s...   \n",
       "6328  [6/13/2015, check, breakfast, wildly, overpric...   \n",
       "4866  [11/15/2016, filthy, restrooms, gender, specif...   \n",
       "\n",
       "                                                 lemmas  \n",
       "6757  [3/27/2015, 3.5, snack, view, bring, lot, pati...  \n",
       "3168  [10/10/2016, check, come, whim, want, like, re...  \n",
       "311   [12/30/2015, 20, year, barista, grumpy, attitu...  \n",
       "2691  [12/1/2016, early, drive, come, place, open, 6...  \n",
       "1167  [10/14/2016, check, love, Houndstooth, 4, star...  \n",
       "5568  [7/31/2016, fairly, good, Taco, Deli, breakfas...  \n",
       "7259  [3/13/2016, town, friend, recommend, fiancee, ...  \n",
       "133   [8/21/2016, check, cup, cold, brew, special, s...  \n",
       "6328  [6/13/2015, check, Breakfast, wildly, overpric...  \n",
       "4866  [11/15/2016, filthy, restroom, gender, specifi...  "
      ]
     },
     "execution_count": 92,
     "metadata": {},
     "output_type": "execute_result"
    }
   ],
   "source": [
    "three_star_shops = shops[shops['star_rating'] == ' 3.0 star rating '].copy()\n",
    "two_star_shops = shops[shops['star_rating'] == ' 2.0 star rating '].copy()\n",
    "one_star_shops = shops[shops['star_rating'] == ' 1.0 star rating '].copy()\n",
    "bad_shops = three_star_shops.append(two_star_shops)\n",
    "bad_shops = bad_shops.append(one_star_shops)\n",
    "bad_shops.sample(10)"
   ]
  },
  {
   "cell_type": "code",
   "execution_count": 93,
   "metadata": {},
   "outputs": [
    {
     "data": {
      "image/png": "[encoded data removed]",
      "text/plain": [
       "<Figure size 432x288 with 1 Axes>"
      ]
     },
     "metadata": {
      "needs_background": "light"
     },
     "output_type": "display_data"
    }
   ],
   "source": [
    "wc = count(bad_shops['lemmas'])\n",
    "wc_top20 = wc[wc['rank'] <= 20]\n",
    "\n",
    "squarify.plot(sizes=wc_top20['pct_total'], label=wc_top20['word'], alpha=.8 )\n",
    "plt.axis('off')\n",
    "plt.show()"
   ]
  },
  {
   "cell_type": "markdown",
   "metadata": {},
   "source": [
    "And here we see the above visualization for Bad rated coffee shops, showing again the top 20 words/tokens used in reviews."
   ]
  },
  {
   "cell_type": "markdown",
   "metadata": {},
   "source": [
    "## Can visualize the words with the greatest difference in counts between 'good' & 'bad'?\n",
    "\n",
    "Couple Notes: \n",
    "- Rel. freq. instead of absolute counts b/c of different numbers of reviews\n",
    "- Only look at the top 5-10 words with the greatest differences\n"
   ]
  },
  {
   "cell_type": "code",
   "execution_count": 46,
   "metadata": {},
   "outputs": [],
   "source": []
  },
  {
   "cell_type": "markdown",
   "metadata": {
    "colab_type": "text",
    "id": "1dCb1q8XphcP",
    "toc-hr-collapsed": true
   },
   "source": [
    "## Stretch Goals\n",
    "\n",
    "* Analyze another corpus of documents - such as Indeed.com job listings ;).\n",
    "* Play with the Spacy API to\n",
    " - Extract Named Entities\n",
    " - Extracting 'noun chunks'\n",
    " - Attempt Document Classification with just Spacy\n",
    " - *Note:* This [course](https://course.spacy.io/) will be of interesting in helping you with these stretch goals. \n",
    "* Try to build a plotly dash app with your text data \n",
    "\n"
   ]
  }
 ],
 "metadata": {
  "colab": {
   "collapsed_sections": [],
   "name": "LS_DS_421_Text_Data_Assignment.ipynb",
   "provenance": [],
   "version": "0.3.2"
  },
  "kernelspec": {
   "display_name": "U4-S1-NLP (Python3)",
   "language": "python",
   "name": "u4-s1-nlp"
  },
  "language_info": {
   "codemirror_mode": {
    "name": "ipython",
    "version": 3
   },
   "file_extension": ".py",
   "mimetype": "text/x-python",
   "name": "python",
   "nbconvert_exporter": "python",
   "pygments_lexer": "ipython3",
   "version": "3.7.0"
  },
  "toc-autonumbering": false
 },
 "nbformat": 4,
 "nbformat_minor": 4
}
